{
  "nbformat": 4,
  "nbformat_minor": 0,
  "metadata": {
    "colab": {
      "provenance": []
    },
    "kernelspec": {
      "name": "python3",
      "display_name": "Python 3"
    },
    "language_info": {
      "name": "python"
    }
  },
  "cells": [
    {
      "cell_type": "code",
      "execution_count": 8,
      "metadata": {
        "id": "mV0Jot0aimF2"
      },
      "outputs": [],
      "source": [
        "#PROBLEM SET 0\n",
        "# FUNCTIONS AND VARIABLES\n"
      ]
    },
    {
      "cell_type": "markdown",
      "source": [
        "INDOOR VOICE PROBLEM\n",
        "\n",
        "WRITING IN ALL CAPS IS LIKE YELLING.\n",
        "\n",
        "Best to use your “indoor voice” sometimes, writing entirely in lowercase.\n",
        "\n",
        "In a file called indoor.py, implement a program in Python that prompts the user for input and then outputs that same input in lowercase. Punctuation and whitespace should be outputted unchanged. You’re welcome, but not required, to prompt the user explicitly, as by passing a str of your own as an argument to input.\n",
        "\n",
        "Hints:\n",
        "\n",
        "Recall that input returns a str, per docs.python.org/3/library/functions.html#input.\n",
        "\n",
        "Recall that a str comes with quite a few methods, per docs.python.org/3/library/stdtypes.html#string-methods."
      ],
      "metadata": {
        "id": "zBLbOaMikB52"
      }
    },
    {
      "cell_type": "code",
      "source": [
        "indoor = input(\"Input? \")\n",
        "print(indoor.lower().strip(), end = \"\")"
      ],
      "metadata": {
        "colab": {
          "base_uri": "https://localhost:8080/"
        },
        "id": "OFiiPsv3j22V",
        "outputId": "dd957cb9-805f-4aa7-d4d6-9800214d4863"
      },
      "execution_count": 10,
      "outputs": [
        {
          "output_type": "stream",
          "name": "stdout",
          "text": [
            "Input? VEDANT SAWANT NOOB\n",
            "vedant sawant noob"
          ]
        }
      ]
    },
    {
      "cell_type": "markdown",
      "source": [
        "PLAYBACK SPEED PROBLEM\n",
        "\n",
        "Some people have a habit of lecturing speaking rather quickly, and it’d be nice to slow them down, a la YouTube’s 0.75 playback speed, or even by having them pause between words.\n",
        "\n",
        "In a file called playback.py, implement a program in Python that prompts the user for input and then outputs that same input, replacing each space with ... (i.e., three periods).\n",
        "\n",
        "Hints\n",
        "\n",
        "Recall that input returns a str, per docs.python.org/3/library/functions.html#input.\n",
        "\n",
        "Recall that a str comes with quite a few methods, per docs.python.org/3/library/stdtypes.html#string-methods."
      ],
      "metadata": {
        "id": "cLBleCflkg8l"
      }
    },
    {
      "cell_type": "code",
      "source": [
        "playback = input(\"Input? \")\n",
        "print(playback.replace(\" \",\"...\"), end = \"\")"
      ],
      "metadata": {
        "colab": {
          "base_uri": "https://localhost:8080/"
        },
        "id": "Glp5VptckkK9",
        "outputId": "631d92cd-a7ca-4564-8d2a-3c01d6dcc478"
      },
      "execution_count": 13,
      "outputs": [
        {
          "output_type": "stream",
          "name": "stdout",
          "text": [
            "Input? Let's implement a function called hello\n",
            "Let's...implement...a...function...called...hello"
          ]
        }
      ]
    },
    {
      "cell_type": "markdown",
      "source": [
        "MAKING FACES PROBLEM\n",
        "\n",
        "Before there were emoji, there were emoticons, whereby text like :) was a happy face and text like :( was a sad face. Nowadays, programs tend to convert emoticons to emoji automatically!\n",
        "\n",
        "In a file called faces.py, implement a function called convert that accepts a str as input and returns that same input with any :) converted to 🙂 (otherwise known as a slightly smiling face) and any :( converted to 🙁 (otherwise known as a slightly frowning face). All other text should be returned unchanged.\n",
        "\n",
        "Then, in that same file, implement a function called main that prompts the user for input, calls convert on that input, and prints the result. You’re welcome, but not required, to prompt the user explicitly, as by passing a str of your own as an argument to input. Be sure to call main at the bottom of your file.\n",
        "\n",
        "Hints\n",
        "\n",
        "Recall that input returns a str, per docs.python.org/3/library/functions.html#input.\n",
        "\n",
        "Recall that a str comes with quite a few methods, per docs.python.org/3/library/stdtypes.html#string-methods.\n",
        "\n",
        "An emoji is actually just a character, so you can quote it like any str, a la \"😐\". And you can copy and paste the emoji from this page into your own code as needed."
      ],
      "metadata": {
        "id": "d3Ic0Tp6lwGk"
      }
    },
    {
      "cell_type": "code",
      "source": [
        "def main():\n",
        "  user_input = input(\"Input? \")\n",
        "  converted_input = convert(user_input)\n",
        "  print(\"Converted input:\", converted_input)\n",
        "\n",
        "def convert(emoticons):\n",
        "  emoticons = emoticons.replace(\":)\",\"🙂\").replace(\":(\",\"🙁\")\n",
        "  return emoticons\n",
        "\n",
        "main()"
      ],
      "metadata": {
        "colab": {
          "base_uri": "https://localhost:8080/"
        },
        "id": "rziMumx9mDPN",
        "outputId": "1bbdafa2-a83e-4659-b00e-73d89f1a4c60"
      },
      "execution_count": 17,
      "outputs": [
        {
          "output_type": "stream",
          "name": "stdout",
          "text": [
            "Input? HELLO :) GOODBYE :(\n",
            "Converted input: HELLO 🙂 GOODBYE 🙁\n"
          ]
        }
      ]
    },
    {
      "cell_type": "markdown",
      "source": [
        "EINSTEIN PROBLEM\n",
        "\n",
        "Even if you haven’t studied physics (recently or ever!), you might have heard that \"E = mc^2\", wherein E epresents energy (measured in Joules),\n",
        " represents mass (measured in kilograms), and c represents the speed of light (measured approximately as 300000000 meters per second), per Albert Einstein et al. Essentially, the formula means that mass and energy are equivalent.\n",
        "\n",
        "In a file called einstein.py, implement a program in Python that prompts the user for mass as an integer (in kilograms) and then outputs the equivalent number of Joules as an integer. Assume that the user will input an integer.\n",
        "\n",
        "Hints\n",
        "\n",
        "Recall that input returns a str, per docs.python.org/3/library/functions.html#input.\n",
        "\n",
        "Recall that int can convert a str to an int, per docs.python.org/3/library/functions.html#int.\n",
        "\n",
        "Recall that Python comes with several built-in functions, per docs.python.org/3/library/functions.html."
      ],
      "metadata": {
        "id": "FvzTQJp1o50N"
      }
    },
    {
      "cell_type": "code",
      "source": [
        "m = int(input(\"m: \"))\n",
        "c = 300000000\n",
        "E = m * c ** 2\n",
        "print(\"E:\", E)"
      ],
      "metadata": {
        "colab": {
          "base_uri": "https://localhost:8080/"
        },
        "id": "dPmAyxGwpdOF",
        "outputId": "95def2a8-429c-44c8-ea5d-bfb61ccec54c"
      },
      "execution_count": 26,
      "outputs": [
        {
          "output_type": "stream",
          "name": "stdout",
          "text": [
            "m: 50\n",
            "E: 4500000000000000000\n"
          ]
        }
      ]
    },
    {
      "cell_type": "markdown",
      "source": [
        "TIP CALCULATOR\n",
        "\n",
        "In the United States, it’s customary to leave a tip for your server after dining in a restaurant, typically an amount equal to 15% or more of your meal’s cost. Not to worry, though, we’ve written a tip calculator for you, below!\n",
        "\n",
        "def main():\n",
        "\n",
        "    dollars = dollars_to_float(input(\"How much was the meal? \"))\n",
        "    percent = percent_to_float(input(\"What percentage would you like to tip? \"))\n",
        "    tip = dollars * percent\n",
        "    print(f\"Leave ${tip:.2f}\")\n",
        "\n",
        "\n",
        "def dollars_to_float(d):\n",
        "    # TODO\n",
        "\n",
        "\n",
        "def percent_to_float(p):\n",
        "    # TODO\n",
        "\n",
        "\n",
        "main()\n",
        "\n",
        "Well, we’ve written most of a tip calculator for you. Unfortunately, we didn’t have time to implement two functions:\n",
        "\n",
        "dollars_to_float, which should accept a str as input (formatted as $##.##, wherein each # is a decimal digit), remove the leading $, and return the amount as a float. For instance, given $50.00 as input, it should return 50.0.\n",
        "\n",
        "percent_to_float, which should accept a str as input (formatted as ##%, wherein each # is a decimal digit), remove the trailing %, and return the percentage as a float. For instance, given 15% as input, it should return 0.15.\n",
        "\n",
        "Assume that the user will input values in the expected formats.\n",
        "\n",
        "Hints\n",
        "\n",
        "Recall that input returns a str, per docs.python.org/3/library/functions.html#input.\n",
        "\n",
        "Recall that float can convert a str to a float, per docs.python.org/3/library/functions.html#float.\n",
        "\n",
        "Recall that a str comes with quite a few methods, per docs.python.org/3/library/stdtypes.html#string-methods."
      ],
      "metadata": {
        "id": "UbxuEzO0w_EM"
      }
    },
    {
      "cell_type": "code",
      "source": [
        "def main():\n",
        "    dollars = dollars_to_float(input(\"How much was the meal? \"))\n",
        "    percent = percent_to_float(input(\"What percentage would you like to tip? \"))\n",
        "    tip = dollars * percent\n",
        "    print(f\"Leave ${tip:.2f}\")\n",
        "\n",
        "\n",
        "def dollars_to_float(d):\n",
        "  amount = d.lstrip(\"$\")\n",
        "  return float(amount)\n",
        "\n",
        "\n",
        "def percent_to_float(p):\n",
        "  percent = p.rstrip(\"%\")\n",
        "  return float(percent) / 100\n",
        "\n",
        "\n",
        "main()"
      ],
      "metadata": {
        "colab": {
          "base_uri": "https://localhost:8080/"
        },
        "id": "1ZvKEc4ExfLn",
        "outputId": "38ff01e8-ed96-4a1f-8d7b-c7e6cc94f392"
      },
      "execution_count": 39,
      "outputs": [
        {
          "output_type": "stream",
          "name": "stdout",
          "text": [
            "How much was the meal? $50\n",
            "What percentage would you like to tip? 15%\n",
            "Leave $7.50\n"
          ]
        }
      ]
    }
  ]
}