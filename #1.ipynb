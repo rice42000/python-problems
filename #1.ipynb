{
  "nbformat": 4,
  "nbformat_minor": 0,
  "metadata": {
    "colab": {
      "provenance": []
    },
    "kernelspec": {
      "name": "python3",
      "display_name": "Python 3"
    },
    "language_info": {
      "name": "python"
    }
  },
  "cells": [
    {
      "cell_type": "code",
      "source": [
        "#PROBLEM SET 1\n",
        "# CONDITIONALS"
      ],
      "metadata": {
        "id": "UPXXmXtpPAfc"
      },
      "execution_count": null,
      "outputs": []
    },
    {
      "cell_type": "markdown",
      "source": [
        "DEEP THOUGHT PROBLEM\n",
        "\n",
        "“All right,” said the computer, and settled into silence again. The two men fidgeted. The tension was unbearable.\n",
        "\n",
        "“You’re really not going to like it,” observed Deep Thought.\n",
        "\n",
        "“Tell us!”\n",
        "\n",
        "“All right,” said Deep Thought. “The Answer to the Great Question…”\n",
        "\n",
        "“Yes…!”\n",
        "\n",
        "“Of Life, the Universe and Everything…” said Deep Thought.\n",
        "\n",
        "“Yes…!”\n",
        "\n",
        "“Is…” said Deep Thought, and paused.\n",
        "\n",
        "“Yes…!”\n",
        "\n",
        "“Is…”\n",
        "\n",
        "“Yes…!!!…?”\n",
        "\n",
        "“Forty-two,” said Deep Thought, with infinite majesty and calm.”\n",
        "\n",
        "— The Hitchhiker’s Guide to the Galaxy, Douglas Adams\n",
        "\n",
        "In deep.py, implement a program that prompts the user for the answer to the Great Question of Life, the Universe and Everything, outputting Yes if the user inputs 42 or (case-insensitively) forty-two or forty two. Otherwise output No.\n",
        "\n",
        "Hints\n",
        "\n",
        "No need to convert the user’s input to an int if you check for equality with \"42\", a str, rather than 42, an int!\n",
        "\n",
        "It’s okay if your output or the user’s wraps onto multiple lines."
      ],
      "metadata": {
        "id": "0RvsOcBSPCk8"
      }
    },
    {
      "cell_type": "code",
      "source": [
        "answer = input(\"What is the answer to the Great Question of Life, the Universe and Everything? \")\n",
        "if answer.strip().casefold() in [\"42\",\"forty-two\",\"forty two\"]:\n",
        "  print(\"Yes\")\n",
        "else:\n",
        "  print(\"No\")"
      ],
      "metadata": {
        "colab": {
          "base_uri": "https://localhost:8080/"
        },
        "id": "3mBeEojuPIzs",
        "outputId": "a243b327-ee1a-49c7-937e-38de25e929de"
      },
      "execution_count": 2,
      "outputs": [
        {
          "output_type": "stream",
          "name": "stdout",
          "text": [
            "What is the answer to the Great Question of Life, the Universe and Everything?           forty-two      \n",
            "Yes\n"
          ]
        }
      ]
    },
    {
      "cell_type": "markdown",
      "source": [
        "HOME FEDERAL SAVINGS BANK PROBLEM\n",
        "\n",
        "In season 7, episode 24 of Seinfeld, Kramer visits a bank that promises to give\n",
        "$100 to anyone who isn’t greeted with a “hello.” Kramer is instead greeted with a “hey,” which he insists isn’t a “hello,” and so he asks for $100. The bank’s manager proposes a compromise: “You got a greeting that starts with an ‘h,’ how does $20 sound?” Kramer accepts.\n",
        "\n",
        "In a file called bank.py, implement a program that prompts the user for a greeting. If the greeting starts with “hello”, output $0. If the greeting starts with an “h” (but not “hello”), output $20. Otherwise, output $100. Ignore any leading whitespace in the user’s greeting, and treat the user’s greeting case-insensitively.\n",
        "\n",
        "Hints\n",
        "\n",
        "Recall that a str comes with quite a few methods, per docs.python.org/3/library/stdtypes.html#string-methods.\n",
        "\n",
        "Be sure to give $0 not only for “hello” but also “hello there”, “hello, Newman”, and the like."
      ],
      "metadata": {
        "id": "AT7S6ravPO1z"
      }
    },
    {
      "cell_type": "code",
      "source": [
        "greeting = input(\"Greeting: \").strip().lower()\n",
        "if greeting.startswith(\"hello\"):\n",
        "  print(\"$0\")\n",
        "elif greeting.startswith(\"h\"):\n",
        "  print(\"$20\")\n",
        "else:\n",
        "  print(\"$100\")"
      ],
      "metadata": {
        "colab": {
          "base_uri": "https://localhost:8080/"
        },
        "id": "z24y0OPSPSRj",
        "outputId": "d54206ce-dd14-4646-ebf9-e72f8e65f301"
      },
      "execution_count": 3,
      "outputs": [
        {
          "output_type": "stream",
          "name": "stdout",
          "text": [
            "Greeting:         What's happening?  \n",
            "$100\n"
          ]
        }
      ]
    },
    {
      "cell_type": "markdown",
      "source": [
        "FILE EXTENSIONS PROBLEM\n",
        "\n",
        "Even though Windows and macOS sometimes hide them, most files have file extensions, a suffix that starts with a period (.) at the end of their name. For instance, file names for GIFs end with .gif, and file names for JPEGs end with .jpg or .jpeg. When you double-click on a file to open it, your computer uses its file extension to determine which program to launch.\n",
        "\n",
        "Web browsers, by contrast, rely on media types, formerly known as MIME types, to determine how to display files that live on the web. When you download a file from a web server, that server sends an HTTP header, along with the file itself, indicating the file’s media type. For instance, the media type for a GIF is image/gif, and the media type for a JPEG is image/jpeg. To determine the media type for a file, a web server typically looks at the file’s extension, mapping one to the other.\n",
        "\n",
        "See developer.mozilla.org/en-US/docs/Web/HTTP/Basics_of_HTTP/MIME_types/Common_types for common types.\n",
        "\n",
        "In a file called extensions.py, implement a program that prompts the user for the name of a file and then outputs that file’s media type if the file’s name ends, case-insensitively, in any of these suffixes:\n",
        "\n",
        ".gif\n",
        ".jpg\n",
        ".jpeg\n",
        ".png\n",
        ".pdf\n",
        ".txt\n",
        ".zip\n",
        "\n",
        "If the file’s name ends with some other suffix or has no suffix at all, output application/octet-stream instead, which is a common default.\n",
        "\n",
        "Hints\n",
        "\n",
        "Recall that a str comes with quite a few methods, per docs.python.org/3/library/stdtypes.html#string-methods."
      ],
      "metadata": {
        "id": "_a6nJHVmPZyF"
      }
    },
    {
      "cell_type": "code",
      "source": [
        "extensions = input(\"File Name: \").strip().lower().casefold()\n",
        "if extensions.endswith(\".gif\"):\n",
        "  print(\"image/gif\")\n",
        "elif extensions.endswith(\".jpg\"):\n",
        "  print(\"image/jpeg\")\n",
        "elif extensions.endswith(\".jpeg\"):\n",
        "  print(\"image/jpeg\")\n",
        "elif extensions.endswith(\".png\"):\n",
        "  print(\"image/png\")\n",
        "elif extensions.endswith(\".pdf\"):\n",
        "  print(\"application/pdf\")\n",
        "elif extensions.endswith(\".zip\"):\n",
        "  print(\"application/zip\")\n",
        "elif extensions.endswith(\".txt\"):\n",
        "  print(\"text/plain\")\n",
        "else:\n",
        "  print(\"application/octet-stream\")"
      ],
      "metadata": {
        "colab": {
          "base_uri": "https://localhost:8080/"
        },
        "id": "sgrpD_6gPef9",
        "outputId": "bdbdcd19-c110-4ce9-cf41-33007032f374"
      },
      "execution_count": 4,
      "outputs": [
        {
          "output_type": "stream",
          "name": "stdout",
          "text": [
            "File Name: document.pdf\n",
            "application/pdf\n"
          ]
        }
      ]
    },
    {
      "cell_type": "markdown",
      "source": [
        "MATH INTERPRETER PROBLEM\n",
        "\n",
        "Python already supports math, whereby you can write code to add, subtract, multiply, or divide values and even variables. But let’s write a program that enables users to do math, even without knowing Python.\n",
        "\n",
        "In a file called interpreter.py, implement a program that prompts the user for an arithmetic expression and then calculates and outputs the result as a floating-point value formatted to one decimal place. Assume that the user’s input will be formatted as x y z, with one space between x and y and one space between y and z, wherein:\n",
        "\n",
        "x is an integer\n",
        "\n",
        "y is +, -, *, or /\n",
        "\n",
        "z is an integer\n",
        "\n",
        "For instance, if the user inputs 1 + 1, your program should output 2.0. Assume that, if y is /, then z will not be 0.\n",
        "\n",
        "Note that, just as python itself is an interpreter for Python, so will your interpreter.py be an interpreter for math!\n",
        "\n",
        "Hints\n",
        "\n",
        "Recall that a str comes with quite a few methods, per docs.python.org/3/library/stdtypes.html#string-methods, including split, which separates a str into a sequence of values, all of which can be assigned to variables at once. For instance, if expression is a str like 1 + 1, then\n",
        "\n",
        "x, y, z = expression.split(\" \")\n",
        "\n",
        "will assign 1 to x, + to y, and 1 to z."
      ],
      "metadata": {
        "id": "nW4Qx1e-Plhc"
      }
    },
    {
      "cell_type": "code",
      "source": [
        "calculation = input(\"Expression: \")\n",
        "x, y, z = calculation.split(\" \")\n",
        "\n",
        "x = int(x)\n",
        "z = int(z)\n",
        "\n",
        "if y == \"+\":\n",
        "  result = x + z\n",
        "elif y == \"-\":\n",
        "  result = x - z\n",
        "elif y == \"*\":\n",
        "  result = x * z\n",
        "elif y == \"/\":\n",
        "  result = x / z\n",
        "\n",
        "print(f\"Result: {result:.1f}\")\n"
      ],
      "metadata": {
        "colab": {
          "base_uri": "https://localhost:8080/"
        },
        "id": "-E-gQwJsPpo0",
        "outputId": "3a7d7581-a30a-4cc2-d706-acae0618f431"
      },
      "execution_count": 10,
      "outputs": [
        {
          "output_type": "stream",
          "name": "stdout",
          "text": [
            "Expression: 4 / 3\n",
            "Result: 1.3\n"
          ]
        }
      ]
    },
    {
      "cell_type": "markdown",
      "source": [
        "MEAL TIME PROBLEM\n",
        "\n",
        "Suppose that you’re in a country where it’s customary to eat breakfast between 7:00 and 8:00, lunch between 12:00 and 13:00, and dinner between 18:00 and 19:00. Wouldn’t it be nice if you had a program that could tell you what to eat when?\n",
        "\n",
        "In meal.py, implement a program that prompts the user for a time and outputs whether it’s breakfast time, lunch time, or dinner time. If it’s not time for a meal, don’t output anything at all. Assume that the user’s input will be formatted in 24-hour time as #:## or ##:##. And assume that each meal’s time range is inclusive. For instance, whether it’s 7:00, 7:01, 7:59, or 8:00, or anytime in between, it’s time for breakfast.\n",
        "\n",
        "Structure your program per the below, wherein convert is a function (that can be called by main) that converts time, a str in 24-hour format, to the corresponding number of hours as a float. For instance, given a time like \"7:30\" (i.e., 7 hours and 30 minutes), convert should return 7.5 (i.e., 7.5 hours).\n",
        "\n",
        "def main():\n",
        "    ...\n",
        "\n",
        "\n",
        "def convert(time):\n",
        "    ...\n",
        "\n",
        "\n",
        "if __name__ == \"__main__\":\n",
        "    main()\n",
        "\n",
        "Hints\n",
        "\n",
        "Recall that a str comes with quite a few methods, per docs.python.org/3/library/stdtypes.html#string-methods, including split, which separates a str into a sequence of values, all of which can be assigned to variables at once. For instance, if time is a str like \"7:30\", then\n",
        "\n",
        "hours, minutes = time.split(\":\")\n",
        "\n",
        "will assign \"7\" to hours and \"30\" to minutes.\n",
        "\n",
        "Keep in mind that there are 60 minutes in 1 hour."
      ],
      "metadata": {
        "id": "svfI3gNPRE3M"
      }
    },
    {
      "cell_type": "code",
      "source": [
        "def convert(time):\n",
        "    hours, minutes = time.split(\":\")\n",
        "    hours = int(hours)\n",
        "    minutes = int(minutes)\n",
        "    hours += minutes / 60\n",
        "    return hours\n",
        "\n",
        "def main():\n",
        "    time = input(\"What time is it? \")\n",
        "    hours = convert(time)\n",
        "\n",
        "    if 7.0 <= hours < 8.0:\n",
        "        print(\"breakfast time\")\n",
        "    elif 12.0 <= hours < 13.0:\n",
        "        print(\"lunch time\")\n",
        "    elif 18.0 <= hours < 19.0:\n",
        "        print(\"dinner time\")\n",
        "\n",
        "main()\n"
      ],
      "metadata": {
        "colab": {
          "base_uri": "https://localhost:8080/"
        },
        "id": "JbdP2_eXRYRN",
        "outputId": "fd4f1c68-b1a5-48ea-acf7-b38bb45bc1c5"
      },
      "execution_count": 19,
      "outputs": [
        {
          "output_type": "stream",
          "name": "stdout",
          "text": [
            "What time is it? 12:05\n",
            "lunch time\n"
          ]
        }
      ]
    }
  ]
}