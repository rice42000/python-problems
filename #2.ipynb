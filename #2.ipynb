{
  "nbformat": 4,
  "nbformat_minor": 0,
  "metadata": {
    "colab": {
      "provenance": []
    },
    "kernelspec": {
      "name": "python3",
      "display_name": "Python 3"
    },
    "language_info": {
      "name": "python"
    }
  },
  "cells": [
    {
      "cell_type": "code",
      "execution_count": null,
      "metadata": {
        "id": "HV6miUZgqDQs"
      },
      "outputs": [],
      "source": [
        "#PROBLEM SET 2\n",
        "#LOOPS"
      ]
    },
    {
      "cell_type": "markdown",
      "source": [
        "camelCase PROBLEM\n",
        "\n",
        "In some languages, it’s common to use camel case (otherwise known as “mixed case”) for variables’ names when those names comprise multiple words, whereby the first letter of the first word is lowercase but the first letter of each subsequent word is uppercase. For instance, whereas a variable for a user’s name might be called name, a variable for a user’s first name might be called firstName, and a variable for a user’s preferred first name (e.g., nickname) might be called preferredFirstName.\n",
        "\n",
        "Python, by contrast, recommends snake case, whereby words are instead separated by underscores (_), with all letters in lowercase. For instance, those same variables would be called name, first_name, and preferred_first_name, respectively, in Python.\n",
        "\n",
        "In a file called camel.py, implement a program that prompts the user for the name of a variable in camel case and outputs the corresponding name in snake case. Assume that the user’s input will indeed be in camel case.\n",
        "\n",
        "Hints\n",
        "\n",
        "Recall that a str comes with quite a few methods, per docs.python.org/3/library/stdtypes.html#string-methods.\n",
        "\n",
        "Much like a list, a str is “iterable,” which means you can iterate over each of its characters in a loop. For instance, if s is a str, you could print each of its characters, one at a time, with code like:\n",
        "\n",
        "\n",
        "for c in s:\n",
        "\n",
        "print(c, end = \"\")"
      ],
      "metadata": {
        "id": "ylXBp1EAqLfr"
      }
    },
    {
      "cell_type": "code",
      "source": [
        "def main():\n",
        "  camel_case = input(\"Enter a variable name in camel case: \")\n",
        "  snake_case = convert_to_snake_case(camel_case)\n",
        "  print(\"Snake case:\", snake_case)\n",
        "\n",
        "\n",
        "def convert_to_snake_case(camel_case):\n",
        "    snake_case = ''\n",
        "    for char in camel_case:\n",
        "        if char.isupper():\n",
        "            snake_case += '_' + char.lower()\n",
        "        else:\n",
        "            snake_case += char\n",
        "\n",
        "    if snake_case.startswith('_'):\n",
        "        snake_case = snake_case[1:]\n",
        "    return snake_case\n",
        "\n",
        "\n",
        "\n",
        "main()\n",
        "\n",
        "\n"
      ],
      "metadata": {
        "colab": {
          "base_uri": "https://localhost:8080/"
        },
        "id": "9i1v4_mEqzbl",
        "outputId": "580b6844-7b69-4b98-aa66-156163cc829b"
      },
      "execution_count": null,
      "outputs": [
        {
          "output_type": "stream",
          "name": "stdout",
          "text": [
            "Enter a variable name in camel case: fuckNmimsShirpur\n",
            "Snake case: fuck_nmims_shirpur\n"
          ]
        }
      ]
    },
    {
      "cell_type": "markdown",
      "source": [
        "COKE MACHINE PROBLEM\n",
        "\n",
        "Suppose that a machine sells bottles of Coca-Cola (Coke) for 50 cents and only accepts coins in these denominations: 25 cents, 10 cents, and 5 cents.\n",
        "\n",
        "In a file called coke.py, implement a program that prompts the user to insert a coin, one at a time, each time informing the user of the amount due. Once the user has inputted at least 50 cents, output how many cents in change the user is owed. Assume that the user will only input integers, and ignore any integer that isn’t an accepted denomination."
      ],
      "metadata": {
        "id": "FvUBAjduxbJU"
      }
    },
    {
      "cell_type": "code",
      "source": [
        "print(\"Amount Due: 50\")\n",
        "amount_due = 50\n",
        "coins_added = 0\n",
        "\n",
        "while True:\n",
        "    insert_coin = int(input(\"Insert Coin: \"))\n",
        "    if insert_coin == 25 or insert_coin == 10 or insert_coin == 5:\n",
        "        amount_due -= insert_coin\n",
        "        coins_added += insert_coin\n",
        "    else:\n",
        "        print(f\"Amount Due: {amount_due}\")\n",
        "\n",
        "    if coins_added >= 50:\n",
        "        print(f\"Change Owed: {coins_added - 50}\")\n",
        "        break\n",
        "    else:\n",
        "        print(f\"Amount Due: {amount_due}\")"
      ],
      "metadata": {
        "colab": {
          "base_uri": "https://localhost:8080/"
        },
        "id": "Kf-fdzrtDw8q",
        "outputId": "345ea599-0691-4770-a491-deeddcb70d89"
      },
      "execution_count": 4,
      "outputs": [
        {
          "output_type": "stream",
          "name": "stdout",
          "text": [
            "Amount Due: 50\n",
            "Insert Coin: 25\n",
            "Amount Due: 25\n",
            "Insert Coin: 10\n",
            "Amount Due: 15\n",
            "Insert Coin: 25\n",
            "Change Owed: 10\n"
          ]
        }
      ]
    },
    {
      "cell_type": "markdown",
      "source": [
        "JUST SETTING UP MY TWTTR PROBLEM\n",
        "\n",
        "When texting or tweeting, it’s not uncommon to shorten words to save time or space, as by omitting vowels, much like Twitter was originally called twttr. In a file called twttr.py, implement a program that prompts the user for a str of text and then outputs that same text but with all vowels (A, E, I, O, and U) omitted, whether inputted in uppercase or lowercase.\n",
        "\n",
        "Hints\n",
        "\n",
        "Recall that a str comes with quite a few methods, per docs.python.org/3/library/stdtypes.html#string-methods.\n",
        "\n",
        "Much like a list, a str is “iterable,” which means you can iterate over each of its characters in a loop. For instance, if s is a str, you could print each of its characters, one at a time, with code like:\n",
        "\n",
        "for c in s:\n",
        "    print(c, end=\"\")"
      ],
      "metadata": {
        "id": "tnm5hHRpD1ST"
      }
    },
    {
      "cell_type": "code",
      "source": [
        "answer = input(\"Input: \")\n",
        "print(\"Output: \", end = \"\")\n",
        "\n",
        "for letters in answer:\n",
        "    if letters.lower() not in [\"a\",\"e\",\"i\",\"o\",\"u\"]:\n",
        "        print(letters, end = \"\")\n",
        "\n",
        "print()"
      ],
      "metadata": {
        "colab": {
          "base_uri": "https://localhost:8080/"
        },
        "id": "STFcreS8EOsz",
        "outputId": "add8321c-1b5f-4548-b798-5406e30e1318"
      },
      "execution_count": 6,
      "outputs": [
        {
          "output_type": "stream",
          "name": "stdout",
          "text": [
            "Input: twitter\n",
            "Output: twttr\n"
          ]
        }
      ]
    },
    {
      "cell_type": "markdown",
      "source": [
        "VANITY PLATES PROBLEM\n",
        "\n",
        "In Massachusetts, home to Harvard University, it’s possible to request a vanity license plate for your car, with your choice of letters and numbers instead of random ones. Among the requirements, though, are:\n",
        "\n",
        "“All vanity plates must start with at least two letters.”\n",
        "\n",
        "“… vanity plates may contain a maximum of 6 characters (letters or numbers) and a minimum of 2 characters.”\n",
        "\n",
        "“Numbers cannot be used in the middle of a plate; they must come at the end. For example, AAA222 would be an acceptable … vanity plate; AAA22A would not be acceptable. The first number used cannot be a ‘0’.”\n",
        "\n",
        "“No periods, spaces, or punctuation marks are allowed.”\n",
        "\n",
        "In plates.py, implement a program that prompts the user for a vanity plate and then output Valid if meets all of the requirements or Invalid if it does not. Assume that any letters in the user’s input will be uppercase. Structure your program per the below, wherein is_valid returns True if s meets all requirements and False if it does not. Assume that s will be a str. You’re welcome to implement additional functions for is_valid to call (e.g., one function per requirement).\n",
        "\n",
        "def main():\n",
        "\n",
        "    plate = input(\"Plate: \")\n",
        "    if is_valid(plate):\n",
        "        print(\"Valid\")\n",
        "    else:\n",
        "        print(\"Invalid\")\n",
        "\n",
        "\n",
        "def is_valid(s):\n",
        "    ...\n",
        "\n",
        "\n",
        "main()\n",
        "\n",
        "Hints\n",
        "\n",
        "Recall that a str comes with quite a few methods, per docs.python.org/3/library/stdtypes.html#string-methods.\n",
        "\n",
        "Much like a list, a str is a “sequence” (of characters), which means it can be “sliced” into shorter strings with syntax like s[i:j]. For instance, if s is \"CS50\", then s[0:2] would be \"CS\"."
      ],
      "metadata": {
        "id": "HmZG6X2uH4zK"
      }
    },
    {
      "cell_type": "code",
      "source": [
        "def main():\n",
        "    plate = input(\"Plate: \")\n",
        "    if is_valid(plate):\n",
        "        print(\"Valid\")\n",
        "    else:\n",
        "        print(\"Invalid\")\n",
        "\n",
        "\n",
        "def is_valid(s):\n",
        "    if len(s) >= 2 and len(s) <= 6:\n",
        "        if s.isalpha():\n",
        "            return True\n",
        "        elif s.isalnum() and s[0:2].isalpha():\n",
        "            for char in s:\n",
        "                if char.isdigit():\n",
        "                    position = s.index(char)\n",
        "\n",
        "                    if s[position:].isdigit() and int(char) != 0:\n",
        "                        return True\n",
        "\n",
        "                    else:\n",
        "                        return False\n",
        "\n",
        "main()"
      ],
      "metadata": {
        "colab": {
          "base_uri": "https://localhost:8080/"
        },
        "id": "YQef-olBIVWC",
        "outputId": "7695f3df-e888-4af7-8cf6-7c89afcb591c"
      },
      "execution_count": 7,
      "outputs": [
        {
          "output_type": "stream",
          "name": "stdout",
          "text": [
            "Plate: CS50P\n",
            "Invalid\n"
          ]
        }
      ]
    },
    {
      "cell_type": "markdown",
      "source": [
        "NUTRITION FACTS PROBLEM\n",
        "\n",
        "The U.S. Food & Drug Adminstration (FDA) offers downloadable/printable posters that “show nutrition information for the 20 most frequently consumed raw fruits … in the United States. Retail stores are welcome to download the posters, print, display and/or distribute them to consumers in close proximity to the relevant foods in the stores.”\n",
        "\n",
        "In a file called nutrition.py, implement a program that prompts consumers users to input a fruit (case-insensitively) and then outputs the number of calories in one portion of that fruit, per the FDA’s poster for fruits, which is also available as text. Capitalization aside, assume that users will input fruits exactly as written in the poster (e.g., strawberries, not strawberry). Ignore any input that isn’t a fruit.\n",
        "\n",
        "Hints\n",
        "\n",
        "Rather than use a conditional with 20 Boolean expressions, one for each fruit, better to use a dict to associate a fruit with its calories!\n",
        "\n",
        "If k is a str and d is a dict, you can check whether k is a key in d with code like:\n",
        "\n",
        "if k in d:\n",
        "\n",
        "    ...\n",
        "\n",
        "Take care to output the fruit’s calories, not calories from fat!"
      ],
      "metadata": {
        "id": "jLxsFoBOJHfq"
      }
    },
    {
      "cell_type": "code",
      "source": [
        "fruits = {\n",
        "    \"apple\": 130,\n",
        "    \"avocado\": 50,\n",
        "    \"banana\": 110,\n",
        "    \"cantaloupe\": 50,\n",
        "    \"grapefruit\": 60,\n",
        "    \"grapes\": 90,\n",
        "    \"honeydew melon\": 50,\n",
        "    \"kiwifruit\": 90,\n",
        "    \"lemon\": 15,\n",
        "    \"lime\": 20,\n",
        "    \"nectarine\": 60,\n",
        "    \"orange\": 80,\n",
        "    \"peach\": 60,\n",
        "    \"pear\": 100,\n",
        "    \"pineapple\": 50,\n",
        "    \"plums\": 70,\n",
        "    \"strawberries\": 50,\n",
        "    \"sweet cherries\": 100,\n",
        "    \"tangerine\": 50,\n",
        "    \"watermelon\": 80\n",
        "}\n",
        "\n",
        "fruit_needed = input(\"Item: \")\n",
        "\n",
        "for key in fruits:\n",
        "    if key in fruit_needed.lower():\n",
        "        print(\"Calories:\", fruits[key])"
      ],
      "metadata": {
        "colab": {
          "base_uri": "https://localhost:8080/"
        },
        "id": "7r2U4KBmJXrp",
        "outputId": "ff169583-fd33-47de-d4b8-75a8de29526f"
      },
      "execution_count": 8,
      "outputs": [
        {
          "output_type": "stream",
          "name": "stdout",
          "text": [
            "Item: Avocado\n",
            "Calories: 50\n"
          ]
        }
      ]
    }
  ]
}